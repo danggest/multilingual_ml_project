{
 "cells": [
  {
   "cell_type": "markdown",
   "metadata": {},
   "source": [
    "# Demo of using the MissingValuesTransformer to impute missing values in a given column\n"
   ]
  },
  {
   "cell_type": "markdown",
   "metadata": {},
   "source": [
    "import the MissingValuesTransformer and pandas\n"
   ]
  },
  {
   "cell_type": "code",
   "execution_count": 5,
   "metadata": {},
   "outputs": [],
   "source": [
    "from . import MissingValuesTransformer\n",
    "import pandas as pd"
   ]
  },
  {
   "cell_type": "markdown",
   "metadata": {},
   "source": [
    "read the data into a pandas dataframe\n"
   ]
  },
  {
   "cell_type": "code",
   "execution_count": 6,
   "metadata": {},
   "outputs": [],
   "source": [
    "data = pd.read_csv(\"consolidated.csv\")"
   ]
  },
  {
   "cell_type": "markdown",
   "metadata": {},
   "source": [
    "create an instance of the MissingValuesTransformer class which imputes missing values in a fraction of 0.2 of the rows in the review_body column\n"
   ]
  },
  {
   "cell_type": "code",
   "execution_count": 7,
   "metadata": {},
   "outputs": [],
   "source": [
    "corruptor = MissingValuesTransformer(0.2, \"review_body\")\n",
    "corruptor.fit(data)\n",
    "corrupted_data = corruptor.transform(data)"
   ]
  },
  {
   "cell_type": "markdown",
   "metadata": {},
   "source": [
    "print the corrupted data\n"
   ]
  },
  {
   "cell_type": "code",
   "execution_count": 8,
   "metadata": {},
   "outputs": [
    {
     "name": "stdout",
     "output_type": "stream",
     "text": [
      "                                               review_body language  stars\n",
      "0           Armband ist leider nach 1 Jahr kaputt gegangen       de      1\n",
      "1                       In der Lieferung war nur Ein Akku!       de      1\n",
      "2        Ein Stern, weil gar keine geht nicht. Es hande...       de      1\n",
      "3                                                      NaN       de      1\n",
      "4        Meine Kinder haben kaum damit gespielt und nac...       de      1\n",
      "...                                                    ...      ...    ...\n",
      "1049995  Bir çok ürün denedim bu kategoride baya başarı...       tr      5\n",
      "1049996  Çift hat özelliğinin olması dışında uygulamala...       tr      5\n",
      "1049997                                                NaN       tr      5\n",
      "1049998  Çok kullanışlı bir ürün. içinde ekstra gözler ...       tr      5\n",
      "1049999  çok araştırdım. hepsiburada güvencesi ve yorum...       tr      5\n",
      "\n",
      "[1050000 rows x 3 columns]\n"
     ]
    }
   ],
   "source": [
    "print(corrupted_data)"
   ]
  },
  {
   "cell_type": "markdown",
   "metadata": {},
   "source": [
    "print the corrupted rows and the original rows\n"
   ]
  },
  {
   "cell_type": "code",
   "execution_count": 9,
   "metadata": {},
   "outputs": [
    {
     "name": "stdout",
     "output_type": "stream",
     "text": [
      "        review_body language  stars\n",
      "603786          NaN       fr      1\n",
      "238160          NaN       en      1\n",
      "202051          NaN       en      1\n",
      "1043430         NaN       tr      3\n",
      "225938          NaN       en      1\n",
      "...             ...      ...    ...\n",
      "322381          NaN       en      4\n",
      "843722          NaN       tr      5\n",
      "538840          NaN       es      4\n",
      "556998          NaN       es      4\n",
      "280329          NaN       en      3\n",
      "\n",
      "[210000 rows x 3 columns]\n",
      "                                               review_body language  stars\n",
      "603786   Les tiges filetées qui sont là pour fixer les ...       fr      1\n",
      "238160   First use the enamel finish chipped off in a l...       en      1\n",
      "202051   I did not like that the earrings are so small,...       en      1\n",
      "1043430  kuruluşu cok kolay degil şahsen ben zorlandim ...       tr      3\n",
      "225938   This is a cool little copper water jug but try...       en      1\n",
      "...                                                    ...      ...    ...\n",
      "322381   I bought this to take to a rummage sale held b...       en      4\n",
      "843722   ürünü 1 gün önce sipariş ettim ve bugün elime ...       tr      5\n",
      "538840     No trae el soporte de las fotos. Es chino 100%.       es      4\n",
      "556998   Bonitos baberos de algodón. Al venir mezclados...       es      4\n",
      "280329   Used it for a month or so. The problem is pair...       en      3\n",
      "\n",
      "[210000 rows x 3 columns]\n"
     ]
    }
   ],
   "source": [
    "corrupted_rows = corrupted_data.iloc[corruptor.affected_rows_indices]\n",
    "rows_without_corruptions = data.iloc[corruptor.affected_rows_indices]\n",
    "print(corrupted_rows)\n",
    "print(rows_without_corruptions)"
   ]
  },
  {
   "cell_type": "markdown",
   "metadata": {},
   "source": [
    "the original dataset contains no NaN values and the corrupted dataset indeed contains 0.2\\*len(data) NaN values\n"
   ]
  },
  {
   "cell_type": "code",
   "execution_count": 14,
   "metadata": {},
   "outputs": [
    {
     "name": "stdout",
     "output_type": "stream",
     "text": [
      "review_body    0\n",
      "language       0\n",
      "stars          0\n",
      "dtype: int64\n",
      "210000\n",
      "review_body    210000\n",
      "language            0\n",
      "stars               0\n",
      "dtype: int64\n"
     ]
    }
   ],
   "source": [
    "print(data.isnull().sum())\n",
    "print(int(0.2 * len(data)))\n",
    "print(corrupted_data.isnull().sum())"
   ]
  }
 ],
 "metadata": {
  "kernelspec": {
   "display_name": "Python 3",
   "language": "python",
   "name": "python3"
  },
  "language_info": {
   "codemirror_mode": {
    "name": "ipython",
    "version": 3
   },
   "file_extension": ".py",
   "mimetype": "text/x-python",
   "name": "python",
   "nbconvert_exporter": "python",
   "pygments_lexer": "ipython3",
   "version": "3.9.0"
  }
 },
 "nbformat": 4,
 "nbformat_minor": 2
}
