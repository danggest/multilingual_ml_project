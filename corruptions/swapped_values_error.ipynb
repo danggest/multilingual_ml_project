{
 "cells": [
  {
   "cell_type": "markdown",
   "metadata": {},
   "source": [
    "# Demo of using the SwappedValuesTransformer to swap the values of two columns, introducing erroneous data\n"
   ]
  },
  {
   "cell_type": "code",
   "execution_count": 1,
   "metadata": {},
   "outputs": [],
   "source": [
    "from . import SwappedValuesTransformer\n",
    "import pandas as pd"
   ]
  },
  {
   "cell_type": "markdown",
   "metadata": {},
   "source": [
    "load the data into a pandas dataframe\n"
   ]
  },
  {
   "cell_type": "code",
   "execution_count": 2,
   "metadata": {},
   "outputs": [],
   "source": [
    "data = pd.read_csv(\"consolidated.csv\")"
   ]
  },
  {
   "cell_type": "markdown",
   "metadata": {},
   "source": [
    "create an instance of the SwappedValuesTransformer on the review_body and language columns, which will swap the values of these columns in a fraction of 0.1 of the rows\n"
   ]
  },
  {
   "cell_type": "code",
   "execution_count": 3,
   "metadata": {},
   "outputs": [],
   "source": [
    "corruptor = SwappedValuesTransformer(0.1, \"review_body\", \"language\")\n",
    "corruptor.fit(data)\n",
    "corrupted_data = corruptor.transform(data)"
   ]
  },
  {
   "cell_type": "markdown",
   "metadata": {},
   "source": [
    "print the corrupted dataframe\n"
   ]
  },
  {
   "cell_type": "code",
   "execution_count": 4,
   "metadata": {},
   "outputs": [
    {
     "name": "stdout",
     "output_type": "stream",
     "text": [
      "                                               review_body  \\\n",
      "0           Armband ist leider nach 1 Jahr kaputt gegangen   \n",
      "1                       In der Lieferung war nur Ein Akku!   \n",
      "2        Ein Stern, weil gar keine geht nicht. Es hande...   \n",
      "3        Dachte, das wären einfach etwas festere Binden...   \n",
      "4                                                       de   \n",
      "...                                                    ...   \n",
      "1049995  Bir çok ürün denedim bu kategoride baya başarı...   \n",
      "1049996  Çift hat özelliğinin olması dışında uygulamala...   \n",
      "1049997  arkadas bu ne güzel bi kumaştır yaw çok begend...   \n",
      "1049998  Çok kullanışlı bir ürün. içinde ekstra gözler ...   \n",
      "1049999  çok araştırdım. hepsiburada güvencesi ve yorum...   \n",
      "\n",
      "                                                  language  stars  \n",
      "0                                                       de      1  \n",
      "1                                                       de      1  \n",
      "2                                                       de      1  \n",
      "3                                                       de      1  \n",
      "4        Meine Kinder haben kaum damit gespielt und nac...      1  \n",
      "...                                                    ...    ...  \n",
      "1049995                                                 tr      5  \n",
      "1049996                                                 tr      5  \n",
      "1049997                                                 tr      5  \n",
      "1049998                                                 tr      5  \n",
      "1049999                                                 tr      5  \n",
      "\n",
      "[1050000 rows x 3 columns]\n"
     ]
    }
   ],
   "source": [
    "print(corrupted_data)"
   ]
  },
  {
   "cell_type": "markdown",
   "metadata": {},
   "source": [
    "print the corrupted rows and the same rows of the original dataframe\n"
   ]
  },
  {
   "cell_type": "code",
   "execution_count": 5,
   "metadata": {},
   "outputs": [
    {
     "name": "stdout",
     "output_type": "stream",
     "text": [
      "       review_body                                           language  stars\n",
      "739327          fr              Conforme au descriptif, bonne qualité      4\n",
      "738857          fr  superbe jeux. Malheureusement pas en Français ...      4\n",
      "673659          fr                               Délais très long !!!      2\n",
      "967979          tr  Telefonu yaklasik bir haftadir kullaniyorum. S...      5\n",
      "864466          tr  Bekledigimdende iyi cikti kosu bandinda yaptig...      5\n",
      "...            ...                                                ...    ...\n",
      "401975          es  Es una estafa compre el producto y me mandaron...      1\n",
      "441410          es  Aceites de pureza dudable.Solo huelen al momen...      2\n",
      "342872          en  I only gave 4 stars because they were not as t...      4\n",
      "115461          de  Für die einfachere Reinigung der Badheizkörper...      3\n",
      "162462          de  Gute Qualität der Ladegeräte. Lädt schnell und...      5\n",
      "\n",
      "[105000 rows x 3 columns]\n",
      "                                              review_body language  stars\n",
      "739327              Conforme au descriptif, bonne qualité       fr      4\n",
      "738857  superbe jeux. Malheureusement pas en Français ...       fr      4\n",
      "673659                               Délais très long !!!       fr      2\n",
      "967979  Telefonu yaklasik bir haftadir kullaniyorum. S...       tr      5\n",
      "864466  Bekledigimdende iyi cikti kosu bandinda yaptig...       tr      5\n",
      "...                                                   ...      ...    ...\n",
      "401975  Es una estafa compre el producto y me mandaron...       es      1\n",
      "441410  Aceites de pureza dudable.Solo huelen al momen...       es      2\n",
      "342872  I only gave 4 stars because they were not as t...       en      4\n",
      "115461  Für die einfachere Reinigung der Badheizkörper...       de      3\n",
      "162462  Gute Qualität der Ladegeräte. Lädt schnell und...       de      5\n",
      "\n",
      "[105000 rows x 3 columns]\n"
     ]
    }
   ],
   "source": [
    "corrupted_rows = corrupted_data.iloc[corruptor.affected_rows_indices]\n",
    "original_rows = data.iloc[corruptor.affected_rows_indices]\n",
    "print(corrupted_rows)\n",
    "print(original_rows)"
   ]
  }
 ],
 "metadata": {
  "kernelspec": {
   "display_name": "Python 3",
   "language": "python",
   "name": "python3"
  },
  "language_info": {
   "codemirror_mode": {
    "name": "ipython",
    "version": 3
   },
   "file_extension": ".py",
   "mimetype": "text/x-python",
   "name": "python",
   "nbconvert_exporter": "python",
   "pygments_lexer": "ipython3",
   "version": "3.9.0"
  }
 },
 "nbformat": 4,
 "nbformat_minor": 2
}
