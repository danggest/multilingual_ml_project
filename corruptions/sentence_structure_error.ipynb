{
 "cells": [
  {
   "cell_type": "code",
   "execution_count": 1,
   "metadata": {},
   "outputs": [],
   "source": [
    "from . import SentenceStructureTransformer\n",
    "import pandas as pd"
   ]
  },
  {
   "cell_type": "code",
   "execution_count": 2,
   "metadata": {},
   "outputs": [],
   "source": [
    "data = pd.read_csv(\"consolidated.csv\")"
   ]
  },
  {
   "cell_type": "code",
   "execution_count": 3,
   "metadata": {},
   "outputs": [],
   "source": [
    "corruptor = SentenceStructureTransformer(0.1, \"review_body\", \"null\", \"null\")\n",
    "corruptor.fit(data)\n",
    "corrupted_data = corruptor.transform(data)"
   ]
  },
  {
   "cell_type": "code",
   "execution_count": 6,
   "metadata": {},
   "outputs": [
    {
     "name": "stdout",
     "output_type": "stream",
     "text": [
      "313178     It works for my HK Onyx fits but speaker loose...\n",
      "450001                     los A dos lavados pierden calidad\n",
      "474992     A funcionado estupendamente , pero sube no aho...\n",
      "981867     Ürünü yaklaşık 4 aydır kullanıyorum ve çok çok...\n",
      "630586     Arrive defectueux , de redemarre sans cesse qu...\n",
      "                                 ...                        \n",
      "313230     It ’s . ok Nothing special here if you have be...\n",
      "119322     Das Cover ist nicht wunderschön und die Liebes...\n",
      "273880     This was n't what I thought just was . I it wa...\n",
      "1014709    TELEFONLA SAAT ARASINDA TÜM FONKSİYONLAR ÇALIŞ...\n",
      "693800     Très jolies balles ce tennis de table , pratiq...\n",
      "Name: review_body, Length: 105000, dtype: object\n"
     ]
    }
   ],
   "source": [
    "print(corrupted_data.iloc[corruptor.affected_rows_indices][\"review_body\"])"
   ]
  }
 ],
 "metadata": {
  "kernelspec": {
   "display_name": "Python 3",
   "language": "python",
   "name": "python3"
  },
  "language_info": {
   "codemirror_mode": {
    "name": "ipython",
    "version": 3
   },
   "file_extension": ".py",
   "mimetype": "text/x-python",
   "name": "python",
   "nbconvert_exporter": "python",
   "pygments_lexer": "ipython3",
   "version": "3.9.0"
  }
 },
 "nbformat": 4,
 "nbformat_minor": 2
}
