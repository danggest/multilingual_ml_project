{
 "cells": [
  {
   "cell_type": "markdown",
   "metadata": {},
   "source": [
    "# Demo of using the TypoTransformer to introduce typos into a textual column of a dataframe\n"
   ]
  },
  {
   "cell_type": "markdown",
   "metadata": {},
   "source": [
    "Importing pandas and the TypoTransformer\n"
   ]
  },
  {
   "cell_type": "code",
   "execution_count": 1,
   "metadata": {},
   "outputs": [],
   "source": [
    "from . import TypoTransformer\n",
    "import pandas as pd"
   ]
  },
  {
   "cell_type": "markdown",
   "metadata": {},
   "source": [
    "Read the data into a dataframe\n"
   ]
  },
  {
   "cell_type": "code",
   "execution_count": 2,
   "metadata": {},
   "outputs": [],
   "source": [
    "data = pd.read_csv(\"consolidated.csv\")"
   ]
  },
  {
   "cell_type": "markdown",
   "metadata": {},
   "source": [
    "The TypoTransformer had 4 different modes: missing, adding, changing and random(default). The missing mode introduces typos where the word misses a letter. The adding mode introduces typos where a random character is added to the word. The changing mode introduces typos where a random letter from the word is changed with a random character. The random mode applies one of the three typo types at random per word. TypoTransformer takes 4 parameters, the fraction of rows that should contain typos, the textual column that should contain the typos, the fraction of words per row that should contain typos and the mode.\n"
   ]
  },
  {
   "cell_type": "markdown",
   "metadata": {},
   "source": [
    "Here we create an instance of the TypoTransformer which corrupts a fraction of 0.00001 of the rows. The typos will be introduced in the review_body column and every word in each corrupted row will contain a typo(fraction of 1.0). For each word it will be randomly chosen what typo it gets. If no mode is specified the mode will be random as default.\n"
   ]
  },
  {
   "cell_type": "code",
   "execution_count": 3,
   "metadata": {},
   "outputs": [],
   "source": [
    "corruptor = TypoTransformer(0.00001, \"review_body\", 1.0, \"random\")\n",
    "corruptor.fit(data)\n",
    "corrupted_data = corruptor.transform(data)"
   ]
  },
  {
   "cell_type": "markdown",
   "metadata": {},
   "source": [
    "We print the corrupted rows and compare them to the same rows in the original dataframe. As can be seen, each word in the corrupted rows contains a randomly chosen typo which wasn't present in the original data\n"
   ]
  },
  {
   "cell_type": "code",
   "execution_count": 4,
   "metadata": {},
   "outputs": [
    {
     "name": "stdout",
     "output_type": "stream",
     "text": [
      "                                               review_body language  stars\n",
      "454575    Lleó cÓn uen dína dJe retrasI. PSor ulo demús...       es      2\n",
      "963632    GYET HIZLEI E KAITELI URU TESEKKURLERü rHEPSI...       tr      4\n",
      "30791     sDie Hülle zst ebenR bereNts ksputt bezi Rmir...       de      1\n",
      "290700         Olrdered wa largser sizE andi sill oo smal.       en      3\n",
      "566634    Tenemo ele arque- gimndsio deb Gplaygro fue t...       es      5\n",
      "1032176   Bus uruYnun . suu çullaniyorim. yz Cve Ğis me...       tr      5\n",
      "300639    cI've mot e ifferent coGvers, whil  orderedW ...       en      3\n",
      "897903    ğrün çoks hızl ulaştÇı, gcyet güel şarji edYy...       tr      4\n",
      "628588    e e comLprends pKas Rles  e g étodiles disrib...       fr      1\n",
      "295060    Latop wjs packagd kwell... looEks andf fees Q...       en      3\n",
      "                                               review_body language  stars\n",
      "454575   Llegó con un día de retraso. Por lo demás bien...       es      2\n",
      "963632   GAYET HIZLI VE KALITELI URUN TESEKKURLER HEPSI...       tr      4\n",
      "30791    Die Hülle ist eben bereits kaputt bei mir ange...       de      1\n",
      "290700          Ordered a larger size and still too small.       en      3\n",
      "566634   Tenemos el parque- gimnásio de playgro que ten...       es      5\n",
      "1032176  Bu urunun 3.sunu kullaniyorim.yaz ve kis mevsi...       tr      5\n",
      "300639   I've got 2 different covers , while I ordered ...       en      3\n",
      "897903   Ürün çok hızlı ulaştı, gayet güzel şarj ediyor...       tr      4\n",
      "628588   Je ne comprends pas les 4 et 5 étoiles distrib...       fr      1\n",
      "295060   Laptop was packaged well... looks and feels sl...       en      3\n"
     ]
    }
   ],
   "source": [
    "corrupted_rows = corrupted_data.iloc[corruptor.affected_rows_indices]\n",
    "rows_without_corruptions = data.iloc[corruptor.affected_rows_indices]\n",
    "print(corrupted_rows)\n",
    "print(rows_without_corruptions)"
   ]
  },
  {
   "cell_type": "markdown",
   "metadata": {},
   "source": [
    "In the following examples, the other modes will be displayed\n"
   ]
  },
  {
   "cell_type": "markdown",
   "metadata": {},
   "source": [
    "here we corrupt only half of the words per row, the typos now only consist of missing characters\n"
   ]
  },
  {
   "cell_type": "code",
   "execution_count": 5,
   "metadata": {},
   "outputs": [
    {
     "name": "stdout",
     "output_type": "stream",
     "text": [
      "                                              review_body language  stars\n",
      "495707   Me o tuvieron que madar de segunda vz l prmer...       es      3\n",
      "551626   Bonita  eectiva ámara. decuada para la vigila...       es      4\n",
      "137089   Ih bn eigentlich kein in Triker, aer dr hier ...       de      4\n",
      "573419   Es comodíimo. abe n sndwich o bocadillo  una ...       es      5\n",
      "412118                         l articulo n e ha llegado.       es      1\n",
      "601047   Utilis à a maison dan l pièce  vivre, ’ i att...       fr      1\n",
      "717055   Suprbe blouson. Tes belles finitions. Mais ta...       fr      3\n",
      "587110   La silla pesa mucho, i neceitas subrla solo p...       es      5\n",
      "461220   Sobrilla mu básca, poo robusta, por eso vale ...       es      2\n",
      "294875   Normal uality Zipo. But t take o many flicks ...       en      3\n",
      "                                              review_body language  stars\n",
      "495707  Me lo tuvieron que mandar de segunda vez la pr...       es      3\n",
      "551626  Bonita y efectiva cámara. Adecuada para la vig...       es      4\n",
      "137089  Ich bin eigentlich kein Gin Trinker, aber der ...       de      4\n",
      "573419  Es comodísimo. cabe un sandwich o bocadillo y ...       es      5\n",
      "412118                      El articulo no me ha llegado.       es      1\n",
      "601047  Utilisé à la maison dans la pièce à vivre, j’a...       fr      1\n",
      "717055  Superbe blouson. Tres belles finitions. Mais t...       fr      3\n",
      "587110  La silla pesa mucho, si necesitas subirla solo...       es      5\n",
      "461220  Sombrilla muy básica, poco robusta, por eso va...       es      2\n",
      "294875  Normal quality Zippo. But it takes to many fli...       en      3\n"
     ]
    }
   ],
   "source": [
    "corruptor = TypoTransformer(0.00001, \"review_body\", 0.5, \"missing\")\n",
    "corruptor.fit(data)\n",
    "corrupted_data = corruptor.transform(data)\n",
    "corrupted_rows = corrupted_data.iloc[corruptor.affected_rows_indices]\n",
    "rows_without_corruptions = data.iloc[corruptor.affected_rows_indices]\n",
    "print(corrupted_rows)\n",
    "print(rows_without_corruptions)"
   ]
  },
  {
   "cell_type": "markdown",
   "metadata": {},
   "source": [
    "As can be seen not all words contain typos now.\n"
   ]
  },
  {
   "cell_type": "markdown",
   "metadata": {},
   "source": [
    "We do the same.However, now we introduce adding errors.\n"
   ]
  },
  {
   "cell_type": "code",
   "execution_count": 6,
   "metadata": {},
   "outputs": [
    {
     "name": "stdout",
     "output_type": "stream",
     "text": [
      "                                              review_body language  stars\n",
      "197006   Diese LCreme riecht Vso gut. Man fühltg Dsich...       de      5\n",
      "906139   ÜRÜN sELİME GEÇER GEİÇMEZ HEMEN DzENEDİM. ANK...       tr      4\n",
      "397360   DefWinitely fovr small spaces thoPugh, but wo...       en      5\n",
      "696664   HUn peu déçue par ce guide, qui ne contiesnt ...       fr      3\n",
      "420672   Nuo Fllego nunca!!!. El wpaquete Yno ha apare...       es      1\n",
      "508946                   No es gIran Lcosa Áy musy simple       es      3\n",
      "250309   Tfhe firstW 2W times I purchasedT theWse forU...       en      2\n",
      "510718   Si bien Lna Tidea es buenaf, coincido hcon lo...       es      3\n",
      "818134   KA vfonctionné R2 xjours plus a rendue l'âme ...       fr      4\n",
      "32854    Vorsicht Artikel isyt nulal braun, Sdie WHolz...       de      1\n",
      "                                              review_body language  stars\n",
      "197006  Diese Creme riecht so gut. Man fühlt sich rich...       de      5\n",
      "906139  ÜRÜN ELİME GEÇER GEÇMEZ HEMEN DENEDİM.ANKARA D...       tr      4\n",
      "397360  Definitely for small spaces though, but works ...       en      5\n",
      "696664  Un peu déçue par ce guide, qui ne contient auc...       fr      3\n",
      "420672  No llego nunca!!!. El paquete no ha aparecido....       es      1\n",
      "508946                       No es gran cosa y muy simple       es      3\n",
      "250309  The first 2 times I purchased these for my dog...       en      2\n",
      "510718  Si bien La idea es buena, coincido con los com...       es      3\n",
      "818134  A fonctionné 2 jours plus a rendue l'âme mais ...       fr      4\n",
      "32854   Vorsicht Artikel ist null braun, die Holzfarbe...       de      1\n"
     ]
    }
   ],
   "source": [
    "corruptor = TypoTransformer(0.00001, \"review_body\", 0.5, \"adding\")\n",
    "corruptor.fit(data)\n",
    "corrupted_data = corruptor.transform(data)\n",
    "corrupted_rows = corrupted_data.iloc[corruptor.affected_rows_indices]\n",
    "rows_without_corruptions = data.iloc[corruptor.affected_rows_indices]\n",
    "print(corrupted_rows)\n",
    "print(rows_without_corruptions)"
   ]
  },
  {
   "cell_type": "markdown",
   "metadata": {},
   "source": [
    "And now the same for the changing typos\n"
   ]
  },
  {
   "cell_type": "code",
   "execution_count": 7,
   "metadata": {},
   "outputs": [
    {
     "name": "stdout",
     "output_type": "stream",
     "text": [
      "                                              review_body language  stars\n",
      "919174   gerçSkten işd yarıyfr vN guzel bır ürün tavsi...       tr      4\n",
      "125226   Sicher ist die Funktcon Zer BürHte sehr vIn d...       de      4\n",
      "511906   TLdo coñrecto. ConjuntÑ bxnito y barato, dW m...       es      3\n",
      "46745    Coole SaQhe. Mein Z9 Monaten Olt Soh liebt eD...       de      2\n",
      "583833   jn tamaño ieeal y fos Fiveles de reÜistencia ...       es      5\n",
      "514136                  Fino ó frágiX pero queda eleganUe       es      3\n",
      "262860   The dak vusion glass has fine, but night visi...       en      2\n",
      "816565   Je m'attendais à des flaeons uD pei plFs gran...       fr      2\n",
      "582351   Ideaü para los locadillos, adiós wl papel dE ...       es      5\n",
      "29227    ADso zaut mancheO Lewertungen gab ich nor des...       de      1\n",
      "                                              review_body language  stars\n",
      "919174  gerçekten işe yarıyor ve guzel bır ürün tavsiy...       tr      4\n",
      "125226  Sicher ist die Funktion der Bürste sehr von de...       de      4\n",
      "511906  Todo correcto. Conjunto bonito y barato, de mo...       es      3\n",
      "46745   Coole Sache. Mein 19 Monaten Alt Soh liebt es ...       de      2\n",
      "583833  un tamaño ideal y los niveles de resistencia e...       es      5\n",
      "514136                  Fino y frágil pero queda elegante       es      3\n",
      "262860  The day vision glass was fine, but night visio...       en      2\n",
      "816565  Je m'attendais à des flacons un peu plus grand...       fr      2\n",
      "582351  Ideal para los bocadillos, adiós al papel de a...       es      5\n",
      "29227   Also laut mancher Bewertungen hab ich nur desh...       de      1\n"
     ]
    }
   ],
   "source": [
    "corruptor = TypoTransformer(0.00001, \"review_body\", 0.5, \"changing\")\n",
    "corruptor.fit(data)\n",
    "corrupted_data = corruptor.transform(data)\n",
    "corrupted_rows = corrupted_data.iloc[corruptor.affected_rows_indices]\n",
    "rows_without_corruptions = data.iloc[corruptor.affected_rows_indices]\n",
    "print(corrupted_rows)\n",
    "print(rows_without_corruptions)"
   ]
  },
  {
   "cell_type": "markdown",
   "metadata": {},
   "source": [
    "Check if the rows that have been corrupted match the rows said to be corrupted by the instance of the class\n"
   ]
  },
  {
   "cell_type": "code",
   "execution_count": 8,
   "metadata": {},
   "outputs": [
    {
     "data": {
      "text/plain": [
       "True"
      ]
     },
     "execution_count": 8,
     "metadata": {},
     "output_type": "execute_result"
    }
   ],
   "source": [
    "changed_indices = list(data[corrupted_data[\"review_body\"] != data[\"review_body\"]].index)\n",
    "set(changed_indices) == set(corruptor.affected_rows_indices)"
   ]
  }
 ],
 "metadata": {
  "kernelspec": {
   "display_name": "Python 3",
   "language": "python",
   "name": "python3"
  },
  "language_info": {
   "codemirror_mode": {
    "name": "ipython",
    "version": 3
   },
   "file_extension": ".py",
   "mimetype": "text/x-python",
   "name": "python",
   "nbconvert_exporter": "python",
   "pygments_lexer": "ipython3",
   "version": "3.9.0"
  }
 },
 "nbformat": 4,
 "nbformat_minor": 2
}
