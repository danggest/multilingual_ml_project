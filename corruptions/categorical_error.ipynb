{
  "cells": [
    {
      "cell_type": "markdown",
      "metadata": {
        "id": "p82nRYK6-p4I"
      },
      "source": [
        "# Demo of introducing errors into categorical column\n",
        "\n",
        "Using the CategoricalLabelTransformer class we corrupt the language value in a fraction of the rows completely at random.\n",
        "The CategoricalLabelTransformer replaces the correct value by a different value from the same column (default). Optionally a list can be given to specify the categories from which a value will be randomly selected to replace the correct values. Another option is to specify a dictionary in which you can specify with what values the original values should be replaced.\n"
      ]
    },
    {
      "cell_type": "markdown",
      "metadata": {
        "id": "VSkegtnU8UHt"
      },
      "source": [
        "Importing the CategoricalLabelTransformer and pandas\n"
      ]
    },
    {
      "cell_type": "code",
      "execution_count": 1,
      "metadata": {
        "id": "CNtF4tUkhl9q"
      },
      "outputs": [],
      "source": [
        "from . import CategoricalLabelTransformer\n",
        "import pandas as pd"
      ]
    },
    {
      "cell_type": "markdown",
      "metadata": {
        "id": "zIMASIDc8xAQ"
      },
      "source": [
        "Read the data into dataframe\n"
      ]
    },
    {
      "cell_type": "code",
      "execution_count": 2,
      "metadata": {
        "id": "PRDQcYfshpDy"
      },
      "outputs": [],
      "source": [
        "data = pd.read_csv(\"consolidated.csv\")"
      ]
    },
    {
      "cell_type": "markdown",
      "metadata": {
        "id": "GFVzD8f5fOn9"
      },
      "source": [
        "Create an instance of the CategoricalLabelTransformer class with a fraction of 0.2 on the language column. Then fit the data to the transformer and transform the data. The result will be a dataframe where 20% of the rows has a corrupted value in the language column.\n"
      ]
    },
    {
      "cell_type": "code",
      "execution_count": 3,
      "metadata": {
        "id": "i6IBP9NW89pu"
      },
      "outputs": [],
      "source": [
        "corruptor = CategoricalLabelTransformer(0.2, \"language\")\n",
        "corruptor.fit(data)\n",
        "corrupted_data = corruptor.transform(data)"
      ]
    },
    {
      "cell_type": "markdown",
      "metadata": {
        "id": "ocqMjeIIgyRk"
      },
      "source": [
        "Print the 'review_body' and 'language' columns of the original dataframe and the corrupted dataframe\n"
      ]
    },
    {
      "cell_type": "code",
      "execution_count": 4,
      "metadata": {
        "colab": {
          "base_uri": "https://localhost:8080/"
        },
        "id": "XE22mJTX7rKI",
        "outputId": "8966b0f8-8037-414f-af1a-322fb2ded2d3"
      },
      "outputs": [
        {
          "name": "stdout",
          "output_type": "stream",
          "text": [
            "                                               review_body language\n",
            "0           Armband ist leider nach 1 Jahr kaputt gegangen       de\n",
            "1                       In der Lieferung war nur Ein Akku!       de\n",
            "2        Ein Stern, weil gar keine geht nicht. Es hande...       de\n",
            "3        Dachte, das wären einfach etwas festere Binden...       de\n",
            "4        Meine Kinder haben kaum damit gespielt und nac...       de\n",
            "...                                                    ...      ...\n",
            "1049995  Bir çok ürün denedim bu kategoride baya başarı...       tr\n",
            "1049996  Çift hat özelliğinin olması dışında uygulamala...       tr\n",
            "1049997  arkadas bu ne güzel bi kumaştır yaw çok begend...       tr\n",
            "1049998  Çok kullanışlı bir ürün. içinde ekstra gözler ...       tr\n",
            "1049999  çok araştırdım. hepsiburada güvencesi ve yorum...       tr\n",
            "\n",
            "[1050000 rows x 2 columns]\n",
            "                                               review_body language\n",
            "0           Armband ist leider nach 1 Jahr kaputt gegangen       en\n",
            "1                       In der Lieferung war nur Ein Akku!       de\n",
            "2        Ein Stern, weil gar keine geht nicht. Es hande...       de\n",
            "3        Dachte, das wären einfach etwas festere Binden...       es\n",
            "4        Meine Kinder haben kaum damit gespielt und nac...       de\n",
            "...                                                    ...      ...\n",
            "1049995  Bir çok ürün denedim bu kategoride baya başarı...       tr\n",
            "1049996  Çift hat özelliğinin olması dışında uygulamala...       tr\n",
            "1049997  arkadas bu ne güzel bi kumaştır yaw çok begend...       tr\n",
            "1049998  Çok kullanışlı bir ürün. içinde ekstra gözler ...       tr\n",
            "1049999  çok araştırdım. hepsiburada güvencesi ve yorum...       tr\n",
            "\n",
            "[1050000 rows x 2 columns]\n"
          ]
        }
      ],
      "source": [
        "print(data[[\"review_body\", \"language\"]])\n",
        "print(corrupted_data[[\"review_body\", \"language\"]])"
      ]
    },
    {
      "cell_type": "markdown",
      "metadata": {
        "id": "aVZkrl2glBCn"
      },
      "source": [
        "Print the rows where the language label is corrupted. There are 210000 corrupted rows which is indeed a fraction of 0.2 of the original dataset\n"
      ]
    },
    {
      "cell_type": "code",
      "execution_count": 5,
      "metadata": {
        "colab": {
          "base_uri": "https://localhost:8080/",
          "height": 1000
        },
        "id": "kqPzsgHri74o",
        "outputId": "46c7a121-ae70-464c-db4a-b2bfc4cf5d48"
      },
      "outputs": [
        {
          "data": {
            "text/html": [
              "<div>\n",
              "<style scoped>\n",
              "    .dataframe tbody tr th:only-of-type {\n",
              "        vertical-align: middle;\n",
              "    }\n",
              "\n",
              "    .dataframe tbody tr th {\n",
              "        vertical-align: top;\n",
              "    }\n",
              "\n",
              "    .dataframe thead th {\n",
              "        text-align: right;\n",
              "    }\n",
              "</style>\n",
              "<table border=\"1\" class=\"dataframe\">\n",
              "  <thead>\n",
              "    <tr style=\"text-align: right;\">\n",
              "      <th></th>\n",
              "      <th>review_body</th>\n",
              "      <th>language</th>\n",
              "      <th>stars</th>\n",
              "    </tr>\n",
              "  </thead>\n",
              "  <tbody>\n",
              "    <tr>\n",
              "      <th>0</th>\n",
              "      <td>Armband ist leider nach 1 Jahr kaputt gegangen</td>\n",
              "      <td>en</td>\n",
              "      <td>1</td>\n",
              "    </tr>\n",
              "    <tr>\n",
              "      <th>3</th>\n",
              "      <td>Dachte, das wären einfach etwas festere Binden...</td>\n",
              "      <td>es</td>\n",
              "      <td>1</td>\n",
              "    </tr>\n",
              "    <tr>\n",
              "      <th>11</th>\n",
              "      <td>Das Buch sagt mir nicht zu. Die Geschichten si...</td>\n",
              "      <td>es</td>\n",
              "      <td>1</td>\n",
              "    </tr>\n",
              "    <tr>\n",
              "      <th>15</th>\n",
              "      <td>Trotz diesem Fliegengitter haben ungebetene Gä...</td>\n",
              "      <td>tr</td>\n",
              "      <td>1</td>\n",
              "    </tr>\n",
              "    <tr>\n",
              "      <th>17</th>\n",
              "      <td>Das ist gefühlt das 10 was ich für mein Handy ...</td>\n",
              "      <td>tr</td>\n",
              "      <td>1</td>\n",
              "    </tr>\n",
              "    <tr>\n",
              "      <th>...</th>\n",
              "      <td>...</td>\n",
              "      <td>...</td>\n",
              "      <td>...</td>\n",
              "    </tr>\n",
              "    <tr>\n",
              "      <th>1049965</th>\n",
              "      <td>Almış olduğum hediye güzel ve anlamlı oldu ala...</td>\n",
              "      <td>es</td>\n",
              "      <td>4</td>\n",
              "    </tr>\n",
              "    <tr>\n",
              "      <th>1049972</th>\n",
              "      <td>yıllardır kullandığım marka kalıcılığı hiç yok...</td>\n",
              "      <td>de</td>\n",
              "      <td>1</td>\n",
              "    </tr>\n",
              "    <tr>\n",
              "      <th>1049981</th>\n",
              "      <td>%15 yok %20 indirim bugüne özel diye yazıyor e...</td>\n",
              "      <td>de</td>\n",
              "      <td>3</td>\n",
              "    </tr>\n",
              "    <tr>\n",
              "      <th>1049983</th>\n",
              "      <td>Ürünü bugün aldım, bir tıraşlık yetecek kadar ...</td>\n",
              "      <td>es</td>\n",
              "      <td>4</td>\n",
              "    </tr>\n",
              "    <tr>\n",
              "      <th>1049993</th>\n",
              "      <td>sipariş verdiğim ürün 1 günde kargoya verildi ...</td>\n",
              "      <td>en</td>\n",
              "      <td>5</td>\n",
              "    </tr>\n",
              "  </tbody>\n",
              "</table>\n",
              "<p>210000 rows × 3 columns</p>\n",
              "</div>"
            ],
            "text/plain": [
              "                                               review_body language  stars\n",
              "0           Armband ist leider nach 1 Jahr kaputt gegangen       en      1\n",
              "3        Dachte, das wären einfach etwas festere Binden...       es      1\n",
              "11       Das Buch sagt mir nicht zu. Die Geschichten si...       es      1\n",
              "15       Trotz diesem Fliegengitter haben ungebetene Gä...       tr      1\n",
              "17       Das ist gefühlt das 10 was ich für mein Handy ...       tr      1\n",
              "...                                                    ...      ...    ...\n",
              "1049965  Almış olduğum hediye güzel ve anlamlı oldu ala...       es      4\n",
              "1049972  yıllardır kullandığım marka kalıcılığı hiç yok...       de      1\n",
              "1049981  %15 yok %20 indirim bugüne özel diye yazıyor e...       de      3\n",
              "1049983  Ürünü bugün aldım, bir tıraşlık yetecek kadar ...       es      4\n",
              "1049993  sipariş verdiğim ürün 1 günde kargoya verildi ...       en      5\n",
              "\n",
              "[210000 rows x 3 columns]"
            ]
          },
          "execution_count": 5,
          "metadata": {},
          "output_type": "execute_result"
        }
      ],
      "source": [
        "corrupted_data[corrupted_data[\"language\"] != data[\"language\"]]"
      ]
    },
    {
      "cell_type": "markdown",
      "metadata": {
        "id": "jHV3pbV2mAZY"
      },
      "source": [
        "Check if the rows with the incdices that are said to be corrupted by the corruptor are indeed the rows that are corrupted\n"
      ]
    },
    {
      "cell_type": "code",
      "execution_count": 6,
      "metadata": {
        "colab": {
          "base_uri": "https://localhost:8080/"
        },
        "id": "4GJAg-0xlNYP",
        "outputId": "6b884c9e-9ae0-49b0-8af4-3c50f83365b6"
      },
      "outputs": [
        {
          "data": {
            "text/plain": [
              "True"
            ]
          },
          "execution_count": 6,
          "metadata": {},
          "output_type": "execute_result"
        }
      ],
      "source": [
        "corrupted_rows = list(\n",
        "    corrupted_data[corrupted_data[\"language\"] != data[\"language\"]].index\n",
        ")\n",
        "set(corrupted_rows) == set(corruptor.affected_rows_indices)"
      ]
    },
    {
      "cell_type": "markdown",
      "metadata": {},
      "source": [
        "Here we compare a corrupted row with the same row in the original dataset. As can be seen, the language label has changed while the rest of the row maintained the same\n"
      ]
    },
    {
      "cell_type": "code",
      "execution_count": 7,
      "metadata": {},
      "outputs": [
        {
          "name": "stdout",
          "output_type": "stream",
          "text": [
            "review_body    Pour info, il laisse des traces blanches sur l...\n",
            "language                                                      en\n",
            "stars                                                          2\n",
            "Name: 661237, dtype: object\n",
            "review_body    Pour info, il laisse des traces blanches sur l...\n",
            "language                                                      fr\n",
            "stars                                                          2\n",
            "Name: 661237, dtype: object\n"
          ]
        }
      ],
      "source": [
        "corrupted_row_index = corruptor.affected_rows_indices[0]\n",
        "print(corrupted_data.iloc[corrupted_row_index])\n",
        "print(data.iloc[corrupted_row_index])"
      ]
    },
    {
      "cell_type": "markdown",
      "metadata": {},
      "source": [
        "We now show how to specify a list from which a random value is chosen as the error value\n"
      ]
    },
    {
      "cell_type": "code",
      "execution_count": 8,
      "metadata": {},
      "outputs": [],
      "source": [
        "corruptor = CategoricalLabelTransformer(\n",
        "    0.2, \"language\", [\"turkish\", \"german\", \"spanish\", \"english\"]\n",
        ")\n",
        "corruptor.fit(data)\n",
        "corrupted_data = corruptor.transform(data)"
      ]
    },
    {
      "cell_type": "markdown",
      "metadata": {},
      "source": [
        "print the corrupted rows and the original rows\n"
      ]
    },
    {
      "cell_type": "code",
      "execution_count": 9,
      "metadata": {},
      "outputs": [
        {
          "name": "stdout",
          "output_type": "stream",
          "text": [
            "                                               review_body language  stars\n",
            "1017075  Sevgililer günü için eşime hediye aldım, fiyat...  turkish      4\n",
            "861213   İyi ebat olarak tam istediğim gibi 1 haftadan ...   german      5\n",
            "593735   Conectado para salida de aire junto a otro de ...  spanish      5\n",
            "35935    Das Produkt ist defekt, ich hätte es gern erse...   german      1\n",
            "540881   Casi perfecta. Si no fuera por el diseño de de...   german      4\n",
            "...                                                    ...      ...    ...\n",
            "191359   Der absolute Knaller für unsere kleine Maus! S...  spanish      5\n",
            "143347   Sehr zufrieden mit der Auswahl der Nägel und d...  turkish      4\n",
            "134366   sehr praktisch und angenehm, aber ein wenig kl...  spanish      4\n",
            "217003                   Not worth the price..............  english      1\n",
            "349256   I loved the material of the dress, it’s so sof...   german      4\n",
            "\n",
            "[210000 rows x 3 columns]\n",
            "                                               review_body language  stars\n",
            "1017075  Sevgililer günü için eşime hediye aldım, fiyat...       tr      4\n",
            "861213   İyi ebat olarak tam istediğim gibi 1 haftadan ...       tr      5\n",
            "593735   Conectado para salida de aire junto a otro de ...       es      5\n",
            "35935    Das Produkt ist defekt, ich hätte es gern erse...       de      1\n",
            "540881   Casi perfecta. Si no fuera por el diseño de de...       es      4\n",
            "...                                                    ...      ...    ...\n",
            "191359   Der absolute Knaller für unsere kleine Maus! S...       de      5\n",
            "143347   Sehr zufrieden mit der Auswahl der Nägel und d...       de      4\n",
            "134366   sehr praktisch und angenehm, aber ein wenig kl...       de      4\n",
            "217003                   Not worth the price..............       en      1\n",
            "349256   I loved the material of the dress, it’s so sof...       en      4\n",
            "\n",
            "[210000 rows x 3 columns]\n"
          ]
        }
      ],
      "source": [
        "corrupted_rows = corrupted_data.iloc[corruptor.affected_rows_indices]\n",
        "original_rows = data.iloc[corruptor.affected_rows_indices]\n",
        "print(corrupted_rows)\n",
        "print(original_rows)"
      ]
    },
    {
      "cell_type": "markdown",
      "metadata": {},
      "source": [
        "The last option is to give the CategoricalLabelTransformer a dictionary which specifies the values with which the original values should be replaced.\n",
        "Here we create a CategoricalLabelTransformer which replaces the values in the language column in a fraction of 0.2 of the rows. The dictionary we specify mimics the error where instead of the language abbreviation the full language name is given in some rows. Beware that the dictionary should contain an entry for all categories in the dataframe\n"
      ]
    },
    {
      "cell_type": "code",
      "execution_count": 11,
      "metadata": {},
      "outputs": [],
      "source": [
        "corruptor = CategoricalLabelTransformer(\n",
        "    0.2,\n",
        "    \"language\",\n",
        "    {\"en\": \"english\", \"es\": \"spanish\", \"tr\": \"turkish\", \"de\": \"german\", \"fr\": \"french\"},\n",
        ")\n",
        "corruptor.fit(data)\n",
        "corrupted_data = corruptor.transform(data)"
      ]
    },
    {
      "cell_type": "markdown",
      "metadata": {},
      "source": [
        "print the corrupted dataframe\n"
      ]
    },
    {
      "cell_type": "code",
      "execution_count": 12,
      "metadata": {},
      "outputs": [
        {
          "name": "stdout",
          "output_type": "stream",
          "text": [
            "                                               review_body language  stars\n",
            "0           Armband ist leider nach 1 Jahr kaputt gegangen   german      1\n",
            "1                       In der Lieferung war nur Ein Akku!       de      1\n",
            "2        Ein Stern, weil gar keine geht nicht. Es hande...       de      1\n",
            "3        Dachte, das wären einfach etwas festere Binden...       de      1\n",
            "4        Meine Kinder haben kaum damit gespielt und nac...       de      1\n",
            "...                                                    ...      ...    ...\n",
            "1049995  Bir çok ürün denedim bu kategoride baya başarı...       tr      5\n",
            "1049996  Çift hat özelliğinin olması dışında uygulamala...       tr      5\n",
            "1049997  arkadas bu ne güzel bi kumaştır yaw çok begend...       tr      5\n",
            "1049998  Çok kullanışlı bir ürün. içinde ekstra gözler ...       tr      5\n",
            "1049999  çok araştırdım. hepsiburada güvencesi ve yorum...       tr      5\n",
            "\n",
            "[1050000 rows x 3 columns]\n"
          ]
        }
      ],
      "source": [
        "print(corrupted_data)"
      ]
    },
    {
      "cell_type": "markdown",
      "metadata": {},
      "source": [
        "print the corrupted rows and the original rows\n"
      ]
    },
    {
      "cell_type": "code",
      "execution_count": 13,
      "metadata": {},
      "outputs": [
        {
          "name": "stdout",
          "output_type": "stream",
          "text": [
            "                                              review_body language  stars\n",
            "7304    Ich habe den Artikel nach einem Monat immer no...   german      1\n",
            "629050  A éviter. J'ai utilisée la caméra sous l'eau t...   french      1\n",
            "308042  The stereo is good ! fit and worked well on my...  english      3\n",
            "925621                            Piyasada daha ucuzu yok  turkish      5\n",
            "939011  birkaç aydır araştırdığım telefon. farklı yerl...  turkish      5\n",
            "...                                                   ...      ...    ...\n",
            "258414  DO NOT WASTE YOU MONEY! They sent it in a bag ...  english      2\n",
            "881096  ürün 1.5 ve 3.5 olarak toplam 2 parca 5cm  gel...  turkish      3\n",
            "269512  It does not work, it's nonsense, it's constant...  english      2\n",
            "845097  worl exel bedava.ios da para ile satın alıyors...  turkish      5\n",
            "39965   Das Ventil war direkt defekt. Verursachte Kurz...   german      1\n",
            "\n",
            "[210000 rows x 3 columns]\n",
            "                                              review_body language  stars\n",
            "7304    Ich habe den Artikel nach einem Monat immer no...       de      1\n",
            "629050  A éviter. J'ai utilisée la caméra sous l'eau t...       fr      1\n",
            "308042  The stereo is good ! fit and worked well on my...       en      3\n",
            "925621                            Piyasada daha ucuzu yok       tr      5\n",
            "939011  birkaç aydır araştırdığım telefon. farklı yerl...       tr      5\n",
            "...                                                   ...      ...    ...\n",
            "258414  DO NOT WASTE YOU MONEY! They sent it in a bag ...       en      2\n",
            "881096  ürün 1.5 ve 3.5 olarak toplam 2 parca 5cm  gel...       tr      3\n",
            "269512  It does not work, it's nonsense, it's constant...       en      2\n",
            "845097  worl exel bedava.ios da para ile satın alıyors...       tr      5\n",
            "39965   Das Ventil war direkt defekt. Verursachte Kurz...       de      1\n",
            "\n",
            "[210000 rows x 3 columns]\n"
          ]
        }
      ],
      "source": [
        "corrupted_rows = corrupted_data.iloc[corruptor.affected_rows_indices]\n",
        "original_rows = data.iloc[corruptor.affected_rows_indices]\n",
        "print(corrupted_rows)\n",
        "print(original_rows)"
      ]
    }
  ],
  "metadata": {
    "colab": {
      "provenance": []
    },
    "kernelspec": {
      "display_name": "Python 3",
      "name": "python3"
    },
    "language_info": {
      "codemirror_mode": {
        "name": "ipython",
        "version": 3
      },
      "file_extension": ".py",
      "mimetype": "text/x-python",
      "name": "python",
      "nbconvert_exporter": "python",
      "pygments_lexer": "ipython3",
      "version": "3.9.0"
    }
  },
  "nbformat": 4,
  "nbformat_minor": 0
}
