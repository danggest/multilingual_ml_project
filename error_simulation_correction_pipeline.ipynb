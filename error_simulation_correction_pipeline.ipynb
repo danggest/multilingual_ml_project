{
 "cells": [
  {
   "cell_type": "code",
   "execution_count": 3,
   "metadata": {},
   "outputs": [],
   "source": [
    "from corrections import *\n",
    "from corruptions import *\n",
    "from utils import *\n",
    "import pandas as pd"
   ]
  },
  {
   "cell_type": "code",
   "execution_count": 3,
   "metadata": {},
   "outputs": [],
   "source": [
    "test_df = pd.read_csv(\"./data/final_test.csv\")"
   ]
  },
  {
   "cell_type": "code",
   "execution_count": 4,
   "metadata": {},
   "outputs": [],
   "source": [
    "x_test = test_df[[\"review_body\", \"language\"]]\n",
    "y_test = test_df[\"stars\"].astype(float).values"
   ]
  },
  {
   "cell_type": "markdown",
   "metadata": {},
   "source": [
    "## Typo errors\n"
   ]
  },
  {
   "cell_type": "markdown",
   "metadata": {},
   "source": [
    "We first simulate typo errors, in this case we remove letters from a word and test with different fractions to see the impact on inference phase.\n"
   ]
  },
  {
   "cell_type": "code",
   "execution_count": null,
   "metadata": {},
   "outputs": [],
   "source": [
    "path = \"./data\"\n",
    "base_model = BaseModelInference(model_path=f\"{path}/model_weights\")"
   ]
  },
  {
   "cell_type": "markdown",
   "metadata": {},
   "source": [
    "### Evaluation cases\n",
    "\n",
    "- Typos with different fractions\n",
    "  - Random\n",
    "  - Missing (if there is time, very unlikely)\n",
    "- Mislabel with different fractions, (no random but use map with full name)\n",
    "- Sentence structure\n",
    "  - Just error simulation but not correction\n",
    "- Swap columns\n",
    "- Missing values in reviews\n",
    "- Typos and mislabel together\n",
    "  - Correction should be\n"
   ]
  },
  {
   "cell_type": "code",
   "execution_count": 89,
   "metadata": {},
   "outputs": [],
   "source": [
    "sample = test_df.sample(20)"
   ]
  },
  {
   "cell_type": "code",
   "execution_count": 41,
   "metadata": {},
   "outputs": [],
   "source": [
    "base_model_simulation = ErrorSimulationPipeline(\n",
    "    steps=[(\"base_model\", base_model)], data=test_df\n",
    ")"
   ]
  },
  {
   "cell_type": "code",
   "execution_count": 42,
   "metadata": {},
   "outputs": [
    {
     "name": "stdout",
     "output_type": "stream",
     "text": [
      "BaseModelInference fit started\n",
      "BaseModelInference transform started\n"
     ]
    },
    {
     "name": "stderr",
     "output_type": "stream",
     "text": [
      "24/04/04 19:05:03 WARN TaskSetManager: Stage 13 contains a task of very large size (2736 KiB). The maximum recommended task size is 1000 KiB.\n",
      "                                                                                \r"
     ]
    }
   ],
   "source": [
    "base_model_simulation.exec()"
   ]
  },
  {
   "cell_type": "code",
   "execution_count": 43,
   "metadata": {},
   "outputs": [
    {
     "name": "stdout",
     "output_type": "stream",
     "text": [
      "              precision    recall  f1-score   support\n",
      "\n",
      "           1       0.48      0.57      0.52     17699\n",
      "           2       0.32      0.30      0.31     17690\n",
      "           3       0.34      0.22      0.27     21240\n",
      "           4       0.37      0.18      0.24     26434\n",
      "           5       0.58      0.83      0.68     42937\n",
      "\n",
      "    accuracy                           0.48    126000\n",
      "   macro avg       0.42      0.42      0.40    126000\n",
      "weighted avg       0.44      0.48      0.44    126000\n",
      "\n"
     ]
    }
   ],
   "source": [
    "base_model_simulation.report()"
   ]
  },
  {
   "cell_type": "code",
   "execution_count": 8,
   "metadata": {},
   "outputs": [
    {
     "name": "stdout",
     "output_type": "stream",
     "text": [
      "HandleTypoTransformer started\n"
     ]
    }
   ],
   "source": [
    "sample_typo_mis = test_df.sample(100)\n",
    "\n",
    "typos_and_mislabeled_simulation = ErrorSimulationPipeline(\n",
    "    steps=[\n",
    "        (\n",
    "            \"typo_error\",\n",
    "            TypoTransformer(\n",
    "                fraction=0.5,\n",
    "                column=\"review_body\",\n",
    "                fraction_typos=0.5,\n",
    "                typo_mode=\"missing\",\n",
    "            ),\n",
    "        ),\n",
    "        (\n",
    "            \"mislabeled_error\",\n",
    "            CategoricalLabelTransformer(\n",
    "                0.5,\n",
    "                \"language\",\n",
    "                {\"en\": \"english\", \"es\": \"spanish\", \"tr\": \"turkish\"},\n",
    "            ),\n",
    "        ),\n",
    "        (\"base_model\", base_model),\n",
    "    ],\n",
    "    data=sample_typo_mis,\n",
    ")\n",
    "\n",
    "typos_and_mislabeled_correction = ErrorSimulationPipeline(\n",
    "    steps=[\n",
    "        (\n",
    "            \"typo_error\",\n",
    "            TypoTransformer(\n",
    "                fraction=0.5,\n",
    "                column=\"review_body\",\n",
    "                fraction_typos=0.5,\n",
    "                typo_mode=\"missing\",\n",
    "            ),\n",
    "        ),\n",
    "        (\n",
    "            \"mislabeled_error\",\n",
    "            CategoricalLabelTransformer(\n",
    "                0.5,\n",
    "                \"language\",\n",
    "                {\"en\": \"english\", \"es\": \"spanish\", \"tr\": \"turkish\"},\n",
    "            ),\n",
    "        ),\n",
    "        (\n",
    "            \"handle_language_errors\",\n",
    "            HandleLanguageErrors(),\n",
    "        ),\n",
    "        (\"correct_typo\", HandleTypoTransformer(column=\"review_body\")),\n",
    "        (\"base_model\", base_model),\n",
    "    ],\n",
    "    data=sample_typo_mis,\n",
    ")"
   ]
  },
  {
   "cell_type": "code",
   "execution_count": null,
   "metadata": {},
   "outputs": [],
   "source": [
    "typos_and_mislabeled_simulation.exec()\n",
    "typos_and_mislabeled_correction.exec()"
   ]
  },
  {
   "cell_type": "code",
   "execution_count": 10,
   "metadata": {},
   "outputs": [
    {
     "name": "stdout",
     "output_type": "stream",
     "text": [
      "              precision    recall  f1-score   support\n",
      "\n",
      "           1       0.36      0.57      0.44        14\n",
      "           2       0.30      0.23      0.26        13\n",
      "           3       0.60      0.18      0.27        17\n",
      "           4       0.20      0.04      0.06        27\n",
      "           5       0.38      0.76      0.51        29\n",
      "\n",
      "    accuracy                           0.37       100\n",
      "   macro avg       0.37      0.35      0.31       100\n",
      "weighted avg       0.36      0.37      0.31       100\n",
      "\n",
      "              precision    recall  f1-score   support\n",
      "\n",
      "           1       0.44      0.57      0.50        14\n",
      "           2       0.20      0.15      0.17        13\n",
      "           3       0.31      0.24      0.27        17\n",
      "           4       0.33      0.07      0.12        27\n",
      "           5       0.43      0.79      0.56        29\n",
      "\n",
      "    accuracy                           0.39       100\n",
      "   macro avg       0.34      0.37      0.32       100\n",
      "weighted avg       0.36      0.39      0.33       100\n",
      "\n"
     ]
    }
   ],
   "source": [
    "typos_and_mislabeled_simulation.report()\n",
    "typos_and_mislabeled_correction.report()"
   ]
  },
  {
   "cell_type": "code",
   "execution_count": null,
   "metadata": {},
   "outputs": [],
   "source": [
    "typos_and_mislabeled_simulation.exec()\n",
    "typos_and_mislabeled_correction.exec()"
   ]
  },
  {
   "cell_type": "code",
   "execution_count": 124,
   "metadata": {},
   "outputs": [],
   "source": [
    "swap_columns_simulation = ErrorSimulationPipeline(\n",
    "    steps=[\n",
    "        (\n",
    "            \"error\",\n",
    "            SwappedValuesTransformer(\n",
    "                fraction=0.5, column=\"review_body\", second_column=\"language\"\n",
    "            ),\n",
    "        ),\n",
    "        (\"base_model\", base_model),\n",
    "    ],\n",
    "    data=test_df,\n",
    ")"
   ]
  },
  {
   "cell_type": "code",
   "execution_count": 125,
   "metadata": {},
   "outputs": [
    {
     "name": "stdout",
     "output_type": "stream",
     "text": [
      "BaseModelInference fit started\n",
      "BaseModelInference transform started\n"
     ]
    },
    {
     "name": "stderr",
     "output_type": "stream",
     "text": [
      "24/04/05 00:36:27 WARN TaskSetManager: Stage 27 contains a task of very large size (2736 KiB). The maximum recommended task size is 1000 KiB.\n",
      "                                                                                \r"
     ]
    }
   ],
   "source": [
    "swap_columns_simulation.exec()"
   ]
  },
  {
   "cell_type": "code",
   "execution_count": 127,
   "metadata": {},
   "outputs": [
    {
     "name": "stdout",
     "output_type": "stream",
     "text": [
      "              precision    recall  f1-score   support\n",
      "\n",
      "           1       0.49      0.29      0.36     17699\n",
      "           2       0.23      0.39      0.29     17690\n",
      "           3       0.34      0.11      0.17     21240\n",
      "           4       0.36      0.09      0.14     26434\n",
      "           5       0.48      0.82      0.61     42937\n",
      "\n",
      "    accuracy                           0.41    126000\n",
      "   macro avg       0.38      0.34      0.31    126000\n",
      "weighted avg       0.40      0.41      0.36    126000\n",
      "\n"
     ]
    }
   ],
   "source": [
    "swap_columns_simulation.report()"
   ]
  },
  {
   "cell_type": "code",
   "execution_count": 143,
   "metadata": {},
   "outputs": [],
   "source": [
    "swap_columns_correction = ErrorSimulationPipeline(\n",
    "    steps=[\n",
    "        (\n",
    "            \"error\",\n",
    "            SwappedValuesTransformer(\n",
    "                fraction=0.5, column=\"review_body\", second_column=\"language\"\n",
    "            ),\n",
    "        ),\n",
    "        (\"corrector\", HandleSwappedColumns()),\n",
    "        (\"base_model\", base_model),\n",
    "    ],\n",
    "    data=test_df,\n",
    ")"
   ]
  },
  {
   "cell_type": "code",
   "execution_count": 144,
   "metadata": {},
   "outputs": [
    {
     "name": "stdout",
     "output_type": "stream",
     "text": [
      "BaseModelInference fit started\n",
      "BaseModelInference transform started\n"
     ]
    },
    {
     "name": "stderr",
     "output_type": "stream",
     "text": [
      "24/04/05 01:18:48 WARN TaskSetManager: Stage 39 contains a task of very large size (2736 KiB). The maximum recommended task size is 1000 KiB.\n",
      "                                                                                \r"
     ]
    }
   ],
   "source": [
    "swap_columns_correction.exec()"
   ]
  },
  {
   "cell_type": "code",
   "execution_count": 145,
   "metadata": {},
   "outputs": [
    {
     "name": "stdout",
     "output_type": "stream",
     "text": [
      "              precision    recall  f1-score   support\n",
      "\n",
      "           1       0.48      0.57      0.52     17699\n",
      "           2       0.32      0.30      0.31     17690\n",
      "           3       0.34      0.22      0.27     21240\n",
      "           4       0.37      0.18      0.24     26434\n",
      "           5       0.58      0.83      0.68     42937\n",
      "\n",
      "    accuracy                           0.48    126000\n",
      "   macro avg       0.42      0.42      0.40    126000\n",
      "weighted avg       0.44      0.48      0.44    126000\n",
      "\n"
     ]
    }
   ],
   "source": [
    "swap_columns_correction.report()"
   ]
  },
  {
   "cell_type": "code",
   "execution_count": 123,
   "metadata": {},
   "outputs": [],
   "source": [
    "sentence_structure_simulation = ErrorSimulationPipeline(\n",
    "    steps=[\n",
    "        (\n",
    "            \"error\",\n",
    "            SentenceStructureTransformer(\n",
    "                fraction=0.5, column=\"review_body\", type=\"rand\"\n",
    "            ),\n",
    "        ),\n",
    "        (\"base_model\", base_model),\n",
    "    ],\n",
    "    data=test_df,\n",
    ")"
   ]
  },
  {
   "cell_type": "code",
   "execution_count": 39,
   "metadata": {},
   "outputs": [
    {
     "name": "stdout",
     "output_type": "stream",
     "text": [
      "BaseModelInference fit started\n",
      "BaseModelInference transform started\n"
     ]
    },
    {
     "name": "stderr",
     "output_type": "stream",
     "text": [
      "24/04/04 19:01:00 WARN TaskSetManager: Stage 12 contains a task of very large size (2763 KiB). The maximum recommended task size is 1000 KiB.\n",
      "                                                                                \r"
     ]
    }
   ],
   "source": [
    "sentence_structure_simulation.exec()"
   ]
  },
  {
   "cell_type": "markdown",
   "metadata": {},
   "source": [
    "Sentence structure doesn't affect accuracy\n"
   ]
  },
  {
   "cell_type": "code",
   "execution_count": 40,
   "metadata": {},
   "outputs": [
    {
     "name": "stdout",
     "output_type": "stream",
     "text": [
      "              precision    recall  f1-score   support\n",
      "\n",
      "           1       0.48      0.57      0.53     17699\n",
      "           2       0.32      0.30      0.31     17690\n",
      "           3       0.34      0.22      0.27     21240\n",
      "           4       0.36      0.18      0.24     26434\n",
      "           5       0.58      0.83      0.68     42937\n",
      "\n",
      "    accuracy                           0.48    126000\n",
      "   macro avg       0.42      0.42      0.40    126000\n",
      "weighted avg       0.44      0.48      0.44    126000\n",
      "\n"
     ]
    }
   ],
   "source": [
    "sentence_structure_simulation.report()"
   ]
  },
  {
   "cell_type": "code",
   "execution_count": 44,
   "metadata": {},
   "outputs": [],
   "source": [
    "mislabel_error_simulation = ErrorSimulationPipeline(\n",
    "    steps=[\n",
    "        (\n",
    "            \"error\",\n",
    "            CategoricalLabelTransformer(\n",
    "                0.5,\n",
    "                \"language\",\n",
    "                {\"en\": \"english\", \"es\": \"spanish\", \"tr\": \"turkish\"},\n",
    "            ),\n",
    "        ),\n",
    "        (\"base_model\", base_model),\n",
    "    ],\n",
    "    data=test_df,\n",
    ")"
   ]
  },
  {
   "cell_type": "code",
   "execution_count": 45,
   "metadata": {},
   "outputs": [
    {
     "name": "stdout",
     "output_type": "stream",
     "text": [
      "BaseModelInference fit started\n",
      "BaseModelInference transform started\n"
     ]
    },
    {
     "name": "stderr",
     "output_type": "stream",
     "text": [
      "24/04/04 19:13:26 WARN TaskSetManager: Stage 14 contains a task of very large size (2736 KiB). The maximum recommended task size is 1000 KiB.\n",
      "                                                                                \r"
     ]
    }
   ],
   "source": [
    "mislabel_error_simulation.exec()"
   ]
  },
  {
   "cell_type": "code",
   "execution_count": 46,
   "metadata": {},
   "outputs": [
    {
     "name": "stdout",
     "output_type": "stream",
     "text": [
      "              precision    recall  f1-score   support\n",
      "\n",
      "           1       0.48      0.57      0.52     17699\n",
      "           2       0.32      0.30      0.31     17690\n",
      "           3       0.34      0.22      0.27     21240\n",
      "           4       0.37      0.18      0.24     26434\n",
      "           5       0.58      0.83      0.68     42937\n",
      "\n",
      "    accuracy                           0.48    126000\n",
      "   macro avg       0.42      0.42      0.40    126000\n",
      "weighted avg       0.44      0.48      0.44    126000\n",
      "\n"
     ]
    }
   ],
   "source": [
    "mislabel_error_simulation.report()"
   ]
  },
  {
   "cell_type": "code",
   "execution_count": 47,
   "metadata": {},
   "outputs": [],
   "source": [
    "mislabel_error_correction = ErrorSimulationPipeline(\n",
    "    steps=[\n",
    "        (\n",
    "            \"error\",\n",
    "            CategoricalLabelTransformer(\n",
    "                0.5,\n",
    "                \"language\",\n",
    "                {\"en\": \"english\", \"es\": \"spanish\", \"tr\": \"turkish\"},\n",
    "            ),\n",
    "        ),\n",
    "        (\n",
    "            \"handle_errors\",\n",
    "            HandleLanguageErrors(),\n",
    "        ),\n",
    "        (\"base_model\", base_model),\n",
    "    ],\n",
    "    data=test_df,\n",
    ")"
   ]
  },
  {
   "cell_type": "code",
   "execution_count": 48,
   "metadata": {},
   "outputs": [
    {
     "name": "stdout",
     "output_type": "stream",
     "text": [
      "BaseModelInference fit started\n",
      "BaseModelInference transform started\n"
     ]
    },
    {
     "name": "stderr",
     "output_type": "stream",
     "text": [
      "24/04/04 19:22:26 WARN TaskSetManager: Stage 15 contains a task of very large size (2736 KiB). The maximum recommended task size is 1000 KiB.\n",
      "                                                                                \r"
     ]
    }
   ],
   "source": [
    "mislabel_error_correction.exec()"
   ]
  },
  {
   "cell_type": "code",
   "execution_count": 49,
   "metadata": {},
   "outputs": [
    {
     "name": "stdout",
     "output_type": "stream",
     "text": [
      "              precision    recall  f1-score   support\n",
      "\n",
      "           1       0.48      0.57      0.52     17699\n",
      "           2       0.32      0.30      0.31     17690\n",
      "           3       0.34      0.22      0.27     21240\n",
      "           4       0.37      0.18      0.24     26434\n",
      "           5       0.58      0.83      0.68     42937\n",
      "\n",
      "    accuracy                           0.48    126000\n",
      "   macro avg       0.42      0.42      0.40    126000\n",
      "weighted avg       0.44      0.48      0.44    126000\n",
      "\n"
     ]
    }
   ],
   "source": [
    "mislabel_error_correction.report()"
   ]
  },
  {
   "cell_type": "code",
   "execution_count": 128,
   "metadata": {},
   "outputs": [],
   "source": [
    "typo_error_simulation = ErrorSimulationPipeline(\n",
    "    steps=[\n",
    "        (\n",
    "            \"typo\",\n",
    "            TypoTransformer(\n",
    "                fraction=0.5,\n",
    "                column=\"review_body\",\n",
    "                fraction_typos=0.5,\n",
    "                typo_mode=\"missing\",\n",
    "            ),\n",
    "        ),\n",
    "        (\n",
    "            \"base_model\",\n",
    "            base_model,\n",
    "        ),\n",
    "    ],\n",
    "    data=sample,\n",
    ")"
   ]
  },
  {
   "cell_type": "code",
   "execution_count": 129,
   "metadata": {},
   "outputs": [
    {
     "name": "stdout",
     "output_type": "stream",
     "text": [
      "TypoTransformer finished\n",
      "BaseModelInference fit started\n",
      "BaseModelInference transform started\n"
     ]
    }
   ],
   "source": [
    "typo_error_simulation.exec()"
   ]
  },
  {
   "cell_type": "code",
   "execution_count": null,
   "metadata": {},
   "outputs": [],
   "source": [
    "sample_es_en = test_df[test_df[\"language\"].isin([\"es\", \"en\"])].sample(200)\n",
    "\n",
    "typo_error_simulation_es_en = ErrorSimulationPipeline(\n",
    "    steps=[\n",
    "        (\n",
    "            \"typo\",\n",
    "            TypoTransformer(\n",
    "                fraction=0.5,\n",
    "                column=\"review_body\",\n",
    "                fraction_typos=0.5,\n",
    "                typo_mode=\"missing\",\n",
    "                seed=50,\n",
    "            ),\n",
    "        ),\n",
    "        (\n",
    "            \"base_model\",\n",
    "            base_model,\n",
    "        ),\n",
    "    ],\n",
    "    data=sample,\n",
    ")\n",
    "\n",
    "\n",
    "typo_error_correction_es_en = ErrorSimulationPipeline(\n",
    "    steps=[\n",
    "        (\n",
    "            \"typo\",\n",
    "            TypoTransformer(\n",
    "                fraction=0.5,\n",
    "                column=\"review_body\",\n",
    "                fraction_typos=0.5,\n",
    "                typo_mode=\"missing\",\n",
    "                seed=50,\n",
    "            ),\n",
    "        ),\n",
    "        (\"correct_typo\", HandleTypoTransformer(column=\"review_body\")),\n",
    "        (\n",
    "            \"base_model\",\n",
    "            base_model,\n",
    "        ),\n",
    "    ],\n",
    "    data=sample,\n",
    ")\n",
    "\n",
    "typo_error_simulation_es_en.exec()\n",
    "typo_error_correction_es_en.exec()"
   ]
  },
  {
   "cell_type": "code",
   "execution_count": null,
   "metadata": {},
   "outputs": [],
   "source": [
    "sample_es_en = test_df[test_df[\"language\"].isin([\"en\"])].sample(2000)\n",
    "\n",
    "typo_error_simulation_es_en = ErrorSimulationPipeline(\n",
    "    steps=[\n",
    "        (\n",
    "            \"typo\",\n",
    "            TypoTransformer(\n",
    "                fraction=0.5,\n",
    "                column=\"review_body\",\n",
    "                fraction_typos=0.5,\n",
    "                typo_mode=\"missing\",\n",
    "            ),\n",
    "        ),\n",
    "        (\n",
    "            \"base_model\",\n",
    "            base_model,\n",
    "        ),\n",
    "    ],\n",
    "    data=sample_es_en,\n",
    ")\n",
    "\n",
    "\n",
    "typo_error_correction_es_en = ErrorSimulationPipeline(\n",
    "    steps=[\n",
    "        (\n",
    "            \"typo\",\n",
    "            TypoTransformer(\n",
    "                fraction=0.5,\n",
    "                column=\"review_body\",\n",
    "                fraction_typos=0.5,\n",
    "                typo_mode=\"missing\",\n",
    "            ),\n",
    "        ),\n",
    "        (\"correct_typo\", HandleTypoTransformer(column=\"review_body\")),\n",
    "        (\n",
    "            \"base_model\",\n",
    "            base_model,\n",
    "        ),\n",
    "    ],\n",
    "    data=sample_es_en,\n",
    ")\n",
    "\n",
    "typo_error_simulation_es_en.exec()\n",
    "typo_error_correction_es_en.exec()"
   ]
  },
  {
   "cell_type": "code",
   "execution_count": 135,
   "metadata": {},
   "outputs": [
    {
     "name": "stdout",
     "output_type": "stream",
     "text": [
      "              precision    recall  f1-score   support\n",
      "\n",
      "           1       0.64      0.47      0.54        15\n",
      "           2       0.12      0.12      0.12        17\n",
      "           3       0.33      0.17      0.23        23\n",
      "           4       0.24      0.22      0.23        18\n",
      "           5       0.40      0.63      0.49        27\n",
      "\n",
      "    accuracy                           0.34       100\n",
      "   macro avg       0.34      0.32      0.32       100\n",
      "weighted avg       0.34      0.34      0.33       100\n",
      "\n",
      "              precision    recall  f1-score   support\n",
      "\n",
      "           1       0.62      0.67      0.65        15\n",
      "           2       0.19      0.24      0.21        17\n",
      "           3       0.25      0.17      0.21        23\n",
      "           4       0.47      0.44      0.46        18\n",
      "           5       0.63      0.70      0.67        27\n",
      "\n",
      "    accuracy                           0.45       100\n",
      "   macro avg       0.43      0.44      0.44       100\n",
      "weighted avg       0.44      0.45      0.44       100\n",
      "\n"
     ]
    }
   ],
   "source": [
    "typo_error_simulation_es_en.report()\n",
    "typo_error_correction_es_en.report()"
   ]
  },
  {
   "cell_type": "code",
   "execution_count": null,
   "metadata": {},
   "outputs": [],
   "source": [
    "sample_es = test_df[test_df[\"language\"] == \"es\"].sample(100)\n",
    "\n",
    "typo_error_simulation_es = ErrorSimulationPipeline(\n",
    "    steps=[\n",
    "        (\n",
    "            \"typo\",\n",
    "            TypoTransformer(\n",
    "                fraction=0.5,\n",
    "                column=\"review_body\",\n",
    "                fraction_typos=0.5,\n",
    "                typo_mode=\"missing\",\n",
    "            ),\n",
    "        ),\n",
    "        (\n",
    "            \"base_model\",\n",
    "            base_model,\n",
    "        ),\n",
    "    ],\n",
    "    data=sample_es,\n",
    ")\n",
    "\n",
    "\n",
    "typo_error_correction_es = ErrorSimulationPipeline(\n",
    "    steps=[\n",
    "        (\n",
    "            \"typo\",\n",
    "            TypoTransformer(\n",
    "                fraction=0.5,\n",
    "                column=\"review_body\",\n",
    "                fraction_typos=0.5,\n",
    "                typo_mode=\"missing\",\n",
    "            ),\n",
    "        ),\n",
    "        (\"correct_typo\", HandleTypoTransformer(column=\"review_body\")),\n",
    "        (\n",
    "            \"base_model\",\n",
    "            base_model,\n",
    "        ),\n",
    "    ],\n",
    "    data=sample_es,\n",
    ")\n",
    "\n",
    "typo_error_simulation.exec()\n",
    "typo_error_correction_es.exec()"
   ]
  },
  {
   "cell_type": "code",
   "execution_count": 141,
   "metadata": {},
   "outputs": [
    {
     "name": "stdout",
     "output_type": "stream",
     "text": [
      "              precision    recall  f1-score   support\n",
      "\n",
      "           1       0.64      0.47      0.54        15\n",
      "           2       0.12      0.12      0.12        17\n",
      "           3       0.33      0.17      0.23        23\n",
      "           4       0.24      0.22      0.23        18\n",
      "           5       0.40      0.63      0.49        27\n",
      "\n",
      "    accuracy                           0.34       100\n",
      "   macro avg       0.34      0.32      0.32       100\n",
      "weighted avg       0.34      0.34      0.33       100\n",
      "\n",
      "              precision    recall  f1-score   support\n",
      "\n",
      "           1       0.31      0.62      0.42        16\n",
      "           2       0.29      0.19      0.23        21\n",
      "           3       0.17      0.13      0.15        15\n",
      "           4       0.29      0.24      0.26        21\n",
      "           5       0.60      0.56      0.58        27\n",
      "\n",
      "    accuracy                           0.36       100\n",
      "   macro avg       0.33      0.35      0.33       100\n",
      "weighted avg       0.36      0.36      0.35       100\n",
      "\n"
     ]
    }
   ],
   "source": [
    "typo_error_simulation.report()\n",
    "typo_error_correction_es.report()"
   ]
  },
  {
   "cell_type": "markdown",
   "metadata": {},
   "source": [
    "## Accuracy improves where applying error correction for english but doesn't for other languages\n"
   ]
  },
  {
   "cell_type": "code",
   "execution_count": 130,
   "metadata": {},
   "outputs": [
    {
     "name": "stdout",
     "output_type": "stream",
     "text": [
      "              precision    recall  f1-score   support\n",
      "\n",
      "           1       0.64      0.47      0.54        15\n",
      "           2       0.12      0.12      0.12        17\n",
      "           3       0.33      0.17      0.23        23\n",
      "           4       0.24      0.22      0.23        18\n",
      "           5       0.40      0.63      0.49        27\n",
      "\n",
      "    accuracy                           0.34       100\n",
      "   macro avg       0.34      0.32      0.32       100\n",
      "weighted avg       0.34      0.34      0.33       100\n",
      "\n"
     ]
    }
   ],
   "source": [
    "typo_error_simulation.report()"
   ]
  },
  {
   "cell_type": "code",
   "execution_count": 113,
   "metadata": {},
   "outputs": [],
   "source": [
    "sample = test_df[test_df[\"language\"] == \"en\"].sample(100)"
   ]
  },
  {
   "cell_type": "code",
   "execution_count": 115,
   "metadata": {},
   "outputs": [
    {
     "name": "stdout",
     "output_type": "stream",
     "text": [
      "HandleTypoTransformer started\n"
     ]
    }
   ],
   "source": [
    "typo_error_correction = ErrorSimulationPipeline(\n",
    "    steps=[\n",
    "        (\n",
    "            \"typo\",\n",
    "            TypoTransformer(\n",
    "                fraction=0.5,\n",
    "                column=\"review_body\",\n",
    "                fraction_typos=0.5,\n",
    "                typo_mode=\"missing\",\n",
    "            ),\n",
    "        ),\n",
    "        (\"correct_typo\", HandleTypoTransformer(column=\"review_body\")),\n",
    "        (\n",
    "            \"base_model\",\n",
    "            base_model,\n",
    "        ),\n",
    "    ],\n",
    "    data=sample,\n",
    ")"
   ]
  },
  {
   "cell_type": "code",
   "execution_count": 82,
   "metadata": {},
   "outputs": [],
   "source": [
    "# enable max width of columns to be displayed\n",
    "pd.set_option(\"display.max_colwidth\", None)"
   ]
  },
  {
   "cell_type": "code",
   "execution_count": 112,
   "metadata": {},
   "outputs": [
    {
     "data": {
      "text/html": [
       "<div>\n",
       "<style scoped>\n",
       "    .dataframe tbody tr th:only-of-type {\n",
       "        vertical-align: middle;\n",
       "    }\n",
       "\n",
       "    .dataframe tbody tr th {\n",
       "        vertical-align: top;\n",
       "    }\n",
       "\n",
       "    .dataframe thead th {\n",
       "        text-align: right;\n",
       "    }\n",
       "</style>\n",
       "<table border=\"1\" class=\"dataframe\">\n",
       "  <thead>\n",
       "    <tr style=\"text-align: right;\">\n",
       "      <th></th>\n",
       "      <th>review_body</th>\n",
       "      <th>language</th>\n",
       "      <th>stars</th>\n",
       "    </tr>\n",
       "  </thead>\n",
       "  <tbody>\n",
       "    <tr>\n",
       "      <th>75024</th>\n",
       "      <td>esc especialmente perfecta, es bien como anillo al dedo o casio marlin, y el kit de monaje es súper práctico</td>\n",
       "      <td>es</td>\n",
       "      <td>5</td>\n",
       "    </tr>\n",
       "    <tr>\n",
       "      <th>93060</th>\n",
       "      <td>esc par un regalo me gustó mucho. buen producto no taro n legar. l recomiendo, volvería a comprarlo.</td>\n",
       "      <td>es</td>\n",
       "      <td>5</td>\n",
       "    </tr>\n",
       "    <tr>\n",
       "      <th>73047</th>\n",
       "      <td>esc bien, en suaves y cómodas pero n me a llegado e color qu había pedido. si cuela, cela. n la devuelvo porque ya e a bien.</td>\n",
       "      <td>es</td>\n",
       "      <td>3</td>\n",
       "    </tr>\n",
       "    <tr>\n",
       "      <th>20774</th>\n",
       "      <td>esc hay que decir ua osa.... originales. on eo ya garantiza las 5 estrellas</td>\n",
       "      <td>es</td>\n",
       "      <td>5</td>\n",
       "    </tr>\n",
       "    <tr>\n",
       "      <th>89488</th>\n",
       "      <td>Mükmmel bi ürün.</td>\n",
       "      <td>tr</td>\n",
       "      <td>5</td>\n",
       "    </tr>\n",
       "    <tr>\n",
       "      <th>67614</th>\n",
       "      <td>esc pinto estrellas porque aunque esta sin caldas recio y estan muy xulas son u poco mas incomodas de lo q pensaba d toda forma sigo pensando que son buenas zapatillas y por e tiempo se acatan mas son u poco mas comodas</td>\n",
       "      <td>es</td>\n",
       "      <td>4</td>\n",
       "    </tr>\n",
       "    <tr>\n",
       "      <th>13401</th>\n",
       "      <td>esc Mejor en todo que en realidad</td>\n",
       "      <td>es</td>\n",
       "      <td>3</td>\n",
       "    </tr>\n",
       "    <tr>\n",
       "      <th>123300</th>\n",
       "      <td>These nuts are good, not too sweet, and overwhelming flavor.  added a few to my slotted almonds for a good sack. I like the unique flavor, which gives me some variety in my snacking.</td>\n",
       "      <td>en</td>\n",
       "      <td>5</td>\n",
       "    </tr>\n",
       "    <tr>\n",
       "      <th>72680</th>\n",
       "      <td>I did not fit properly.</td>\n",
       "      <td>en</td>\n",
       "      <td>2</td>\n",
       "    </tr>\n",
       "    <tr>\n",
       "      <th>65272</th>\n",
       "      <td>ok başrlatlı. brn bu adar beklemiyodum anlatsından bir daha alacağım????</td>\n",
       "      <td>tr</td>\n",
       "      <td>5</td>\n",
       "    </tr>\n",
       "  </tbody>\n",
       "</table>\n",
       "</div>"
      ],
      "text/plain": [
       "                                                                                                                                                                                                                        review_body  \\\n",
       "75024                                                                                                                  esc especialmente perfecta, es bien como anillo al dedo o casio marlin, y el kit de monaje es súper práctico   \n",
       "93060                                                                                                                          esc par un regalo me gustó mucho. buen producto no taro n legar. l recomiendo, volvería a comprarlo.   \n",
       "73047                                                                                                  esc bien, en suaves y cómodas pero n me a llegado e color qu había pedido. si cuela, cela. n la devuelvo porque ya e a bien.   \n",
       "20774                                                                                                                                                   esc hay que decir ua osa.... originales. on eo ya garantiza las 5 estrellas   \n",
       "89488                                                                                                                                                                                                              Mükmmel bi ürün.   \n",
       "67614   esc pinto estrellas porque aunque esta sin caldas recio y estan muy xulas son u poco mas incomodas de lo q pensaba d toda forma sigo pensando que son buenas zapatillas y por e tiempo se acatan mas son u poco mas comodas   \n",
       "13401                                                                                                                                                                                             esc Mejor en todo que en realidad   \n",
       "123300                                       These nuts are good, not too sweet, and overwhelming flavor.  added a few to my slotted almonds for a good sack. I like the unique flavor, which gives me some variety in my snacking.   \n",
       "72680                                                                                                                                                                                                       I did not fit properly.   \n",
       "65272                                                                                                                                                      ok başrlatlı. brn bu adar beklemiyodum anlatsından bir daha alacağım????   \n",
       "\n",
       "       language  stars  \n",
       "75024        es      5  \n",
       "93060        es      5  \n",
       "73047        es      3  \n",
       "20774        es      5  \n",
       "89488        tr      5  \n",
       "67614        es      4  \n",
       "13401        es      3  \n",
       "123300       en      5  \n",
       "72680        en      2  \n",
       "65272        tr      5  "
      ]
     },
     "execution_count": 112,
     "metadata": {},
     "output_type": "execute_result"
    }
   ],
   "source": [
    "typo_error_correction.pipeline.named_steps[\"correct_typo\"].corrected_data.loc[\n",
    "    typo_error_correction.pipeline.named_steps[\"typo\"].affected_rows_indices\n",
    "]"
   ]
  },
  {
   "cell_type": "code",
   "execution_count": 109,
   "metadata": {},
   "outputs": [
    {
     "data": {
      "text/html": [
       "<div>\n",
       "<style scoped>\n",
       "    .dataframe tbody tr th:only-of-type {\n",
       "        vertical-align: middle;\n",
       "    }\n",
       "\n",
       "    .dataframe tbody tr th {\n",
       "        vertical-align: top;\n",
       "    }\n",
       "\n",
       "    .dataframe thead th {\n",
       "        text-align: right;\n",
       "    }\n",
       "</style>\n",
       "<table border=\"1\" class=\"dataframe\">\n",
       "  <thead>\n",
       "    <tr style=\"text-align: right;\">\n",
       "      <th></th>\n",
       "      <th>review_body</th>\n",
       "      <th>language</th>\n",
       "      <th>stars</th>\n",
       "    </tr>\n",
       "  </thead>\n",
       "  <tbody>\n",
       "    <tr>\n",
       "      <th>75024</th>\n",
       "      <td>simlemente perfeca, e vien como anillo al dedo  i casio marlin, y l kit de monaje e súpe práctico</td>\n",
       "      <td>es</td>\n",
       "      <td>5</td>\n",
       "    </tr>\n",
       "    <tr>\n",
       "      <th>93060</th>\n",
       "      <td>fue par un regalo  e ustó mucho. bun producto  no taro n legar. l recomiendo, volvería a comprarlo</td>\n",
       "      <td>es</td>\n",
       "      <td>5</td>\n",
       "    </tr>\n",
       "    <tr>\n",
       "      <th>73047</th>\n",
       "      <td>están ben, sn suaves y cómodas peo n me a llegado e color qu había pedido. si cuela, cela. n ls devuelvo porqe ya e a bie.</td>\n",
       "      <td>es</td>\n",
       "      <td>3</td>\n",
       "    </tr>\n",
       "    <tr>\n",
       "      <th>20774</th>\n",
       "      <td>solo hay ue deir ua osa.... riginales. on eo ya garantiza las 5 estrellas</td>\n",
       "      <td>es</td>\n",
       "      <td>5</td>\n",
       "    </tr>\n",
       "    <tr>\n",
       "      <th>89488</th>\n",
       "      <td>mükmmel bi ürün.</td>\n",
       "      <td>tr</td>\n",
       "      <td>5</td>\n",
       "    </tr>\n",
       "    <tr>\n",
       "      <th>67614</th>\n",
       "      <td>le ongo  estrllas orque aunque esta bin caldad recio y estan muy xulas son u poc mas incomodas de lo q pensaba d tods forma sigo pnsando que so buenas zaatillas y por e tiemo s adatan mas  son u pco ma comodas</td>\n",
       "      <td>es</td>\n",
       "      <td>4</td>\n",
       "    </tr>\n",
       "    <tr>\n",
       "      <th>13401</th>\n",
       "      <td>mjor en foo que n realidad</td>\n",
       "      <td>es</td>\n",
       "      <td>3</td>\n",
       "    </tr>\n",
       "    <tr>\n",
       "      <th>123300</th>\n",
       "      <td>thes nts ae god, not too sweet&amp; ovepowering flavor.  dd  few to my slted almonds for  god sack. i like th unique flavor, whic give me some varety in m snacking.</td>\n",
       "      <td>en</td>\n",
       "      <td>5</td>\n",
       "    </tr>\n",
       "    <tr>\n",
       "      <th>72680</th>\n",
       "      <td>id not fit proerly</td>\n",
       "      <td>en</td>\n",
       "      <td>2</td>\n",
       "    </tr>\n",
       "    <tr>\n",
       "      <th>65272</th>\n",
       "      <td>ok başrılı. brn bu adar beklemiyodum anısından bir daha alacağım????</td>\n",
       "      <td>tr</td>\n",
       "      <td>5</td>\n",
       "    </tr>\n",
       "  </tbody>\n",
       "</table>\n",
       "</div>"
      ],
      "text/plain": [
       "                                                                                                                                                                                                               review_body  \\\n",
       "75024                                                                                                                    simlemente perfeca, e vien como anillo al dedo  i casio marlin, y l kit de monaje e súpe práctico   \n",
       "93060                                                                                                                   fue par un regalo  e ustó mucho. bun producto  no taro n legar. l recomiendo, volvería a comprarlo   \n",
       "73047                                                                                           están ben, sn suaves y cómodas peo n me a llegado e color qu había pedido. si cuela, cela. n ls devuelvo porqe ya e a bie.   \n",
       "20774                                                                                                                                            solo hay ue deir ua osa.... riginales. on eo ya garantiza las 5 estrellas   \n",
       "89488                                                                                                                                                                                                     mükmmel bi ürün.   \n",
       "67614    le ongo  estrllas orque aunque esta bin caldad recio y estan muy xulas son u poc mas incomodas de lo q pensaba d tods forma sigo pnsando que so buenas zaatillas y por e tiemo s adatan mas  son u pco ma comodas   \n",
       "13401                                                                                                                                                                                           mjor en foo que n realidad   \n",
       "123300                                                    thes nts ae god, not too sweet& ovepowering flavor.  dd  few to my slted almonds for  god sack. i like th unique flavor, whic give me some varety in m snacking.   \n",
       "72680                                                                                                                                                                                                   id not fit proerly   \n",
       "65272                                                                                                                                                 ok başrılı. brn bu adar beklemiyodum anısından bir daha alacağım????   \n",
       "\n",
       "       language  stars  \n",
       "75024        es      5  \n",
       "93060        es      5  \n",
       "73047        es      3  \n",
       "20774        es      5  \n",
       "89488        tr      5  \n",
       "67614        es      4  \n",
       "13401        es      3  \n",
       "123300       en      5  \n",
       "72680        en      2  \n",
       "65272        tr      5  "
      ]
     },
     "execution_count": 109,
     "metadata": {},
     "output_type": "execute_result"
    }
   ],
   "source": [
    "typo_error_correction.pipeline.named_steps[\"typo\"].corrupted_data.loc[\n",
    "    typo_error_correction.pipeline.named_steps[\"typo\"].affected_rows_indices\n",
    "]"
   ]
  },
  {
   "cell_type": "code",
   "execution_count": 108,
   "metadata": {},
   "outputs": [
    {
     "data": {
      "text/html": [
       "<div>\n",
       "<style scoped>\n",
       "    .dataframe tbody tr th:only-of-type {\n",
       "        vertical-align: middle;\n",
       "    }\n",
       "\n",
       "    .dataframe tbody tr th {\n",
       "        vertical-align: top;\n",
       "    }\n",
       "\n",
       "    .dataframe thead th {\n",
       "        text-align: right;\n",
       "    }\n",
       "</style>\n",
       "<table border=\"1\" class=\"dataframe\">\n",
       "  <thead>\n",
       "    <tr style=\"text-align: right;\">\n",
       "      <th></th>\n",
       "      <th>review_body</th>\n",
       "      <th>language</th>\n",
       "      <th>stars</th>\n",
       "    </tr>\n",
       "  </thead>\n",
       "  <tbody>\n",
       "    <tr>\n",
       "      <th>75024</th>\n",
       "      <td>simplemente perfecta, le viene como anillo al dedo a mi casio marlin, y el kit de montaje es súper práctico</td>\n",
       "      <td>es</td>\n",
       "      <td>5</td>\n",
       "    </tr>\n",
       "    <tr>\n",
       "      <th>93060</th>\n",
       "      <td>fue para un regalo y le gustó mucho. buen producto y no tardo en llegar. lo recomiendo, volvería a comprarlo</td>\n",
       "      <td>es</td>\n",
       "      <td>5</td>\n",
       "    </tr>\n",
       "    <tr>\n",
       "      <th>73047</th>\n",
       "      <td>están bien,son suaves y cómodas pero no me ha llegado el color que había pedido.si cuela,cuela.no las devuelvo porque ya me va bien.</td>\n",
       "      <td>es</td>\n",
       "      <td>3</td>\n",
       "    </tr>\n",
       "    <tr>\n",
       "      <th>20774</th>\n",
       "      <td>solo hay que decir una cosa....originales. con eso ya garantiza las 5 estrellas</td>\n",
       "      <td>es</td>\n",
       "      <td>5</td>\n",
       "    </tr>\n",
       "    <tr>\n",
       "      <th>89488</th>\n",
       "      <td>mükemmel bir ürün.</td>\n",
       "      <td>tr</td>\n",
       "      <td>5</td>\n",
       "    </tr>\n",
       "    <tr>\n",
       "      <th>67614</th>\n",
       "      <td>le pongo 4 estrellas porque aunque esta bien calidad precio y estan muy xulas son un poco mas incomodas de lo q pensaba de todas formas sigo pensando que son buenas zapatillas y por el tiempo se adaptan mas y son un poco mas comodas</td>\n",
       "      <td>es</td>\n",
       "      <td>4</td>\n",
       "    </tr>\n",
       "    <tr>\n",
       "      <th>13401</th>\n",
       "      <td>mejor en foto que en realidad</td>\n",
       "      <td>es</td>\n",
       "      <td>3</td>\n",
       "    </tr>\n",
       "    <tr>\n",
       "      <th>123300</th>\n",
       "      <td>these nuts are good, not too sweet &amp; overpowering flavor. i add a few to my salted almonds for a good snack. i like the unique flavors, which give me some variety in my snacking.</td>\n",
       "      <td>en</td>\n",
       "      <td>5</td>\n",
       "    </tr>\n",
       "    <tr>\n",
       "      <th>72680</th>\n",
       "      <td>did not fit properly</td>\n",
       "      <td>en</td>\n",
       "      <td>2</td>\n",
       "    </tr>\n",
       "    <tr>\n",
       "      <th>65272</th>\n",
       "      <td>çok başarılı . brn bu kadar beklemiyordum aynısından bir daha alacağım????</td>\n",
       "      <td>tr</td>\n",
       "      <td>5</td>\n",
       "    </tr>\n",
       "  </tbody>\n",
       "</table>\n",
       "</div>"
      ],
      "text/plain": [
       "                                                                                                                                                                                                                                     review_body  \\\n",
       "75024                                                                                                                                simplemente perfecta, le viene como anillo al dedo a mi casio marlin, y el kit de montaje es súper práctico   \n",
       "93060                                                                                                                               fue para un regalo y le gustó mucho. buen producto y no tardo en llegar. lo recomiendo, volvería a comprarlo   \n",
       "73047                                                                                                       están bien,son suaves y cómodas pero no me ha llegado el color que había pedido.si cuela,cuela.no las devuelvo porque ya me va bien.   \n",
       "20774                                                                                                                                                            solo hay que decir una cosa....originales. con eso ya garantiza las 5 estrellas   \n",
       "89488                                                                                                                                                                                                                         mükemmel bir ürün.   \n",
       "67614   le pongo 4 estrellas porque aunque esta bien calidad precio y estan muy xulas son un poco mas incomodas de lo q pensaba de todas formas sigo pensando que son buenas zapatillas y por el tiempo se adaptan mas y son un poco mas comodas   \n",
       "13401                                                                                                                                                                                                              mejor en foto que en realidad   \n",
       "123300                                                        these nuts are good, not too sweet & overpowering flavor. i add a few to my salted almonds for a good snack. i like the unique flavors, which give me some variety in my snacking.   \n",
       "72680                                                                                                                                                                                                                       did not fit properly   \n",
       "65272                                                                                                                                                                 çok başarılı . brn bu kadar beklemiyordum aynısından bir daha alacağım????   \n",
       "\n",
       "       language  stars  \n",
       "75024        es      5  \n",
       "93060        es      5  \n",
       "73047        es      3  \n",
       "20774        es      5  \n",
       "89488        tr      5  \n",
       "67614        es      4  \n",
       "13401        es      3  \n",
       "123300       en      5  \n",
       "72680        en      2  \n",
       "65272        tr      5  "
      ]
     },
     "execution_count": 108,
     "metadata": {},
     "output_type": "execute_result"
    }
   ],
   "source": [
    "sample.loc[typo_error_correction.pipeline.named_steps[\"typo\"].affected_rows_indices]"
   ]
  },
  {
   "cell_type": "code",
   "execution_count": null,
   "metadata": {},
   "outputs": [],
   "source": [
    "typo_error_correction.exec()"
   ]
  },
  {
   "cell_type": "code",
   "execution_count": null,
   "metadata": {},
   "outputs": [],
   "source": [
    "typo_error_correction.pipeline.named_steps[\"typo\"].affected_rows_indices"
   ]
  },
  {
   "cell_type": "code",
   "execution_count": 126,
   "metadata": {},
   "outputs": [
    {
     "name": "stdout",
     "output_type": "stream",
     "text": [
      "              precision    recall  f1-score   support\n",
      "\n",
      "           1       0.47      0.47      0.47        15\n",
      "           2       0.20      0.29      0.24        17\n",
      "           3       0.25      0.13      0.17        23\n",
      "           4       0.41      0.39      0.40        18\n",
      "           5       0.58      0.67      0.62        27\n",
      "\n",
      "    accuracy                           0.40       100\n",
      "   macro avg       0.38      0.39      0.38       100\n",
      "weighted avg       0.39      0.40      0.39       100\n",
      "\n"
     ]
    }
   ],
   "source": [
    "typo_error_correction.report()"
   ]
  }
 ],
 "metadata": {
  "kernelspec": {
   "display_name": ".venv",
   "language": "python",
   "name": "python3"
  },
  "language_info": {
   "codemirror_mode": {
    "name": "ipython",
    "version": 3
   },
   "file_extension": ".py",
   "mimetype": "text/x-python",
   "name": "python",
   "nbconvert_exporter": "python",
   "pygments_lexer": "ipython3",
   "version": "3.10.9"
  }
 },
 "nbformat": 4,
 "nbformat_minor": 2
}
